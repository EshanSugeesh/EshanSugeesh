{
  "nbformat": 4,
  "nbformat_minor": 0,
  "metadata": {
    "colab": {
      "provenance": [],
      "authorship_tag": "ABX9TyM3LQV3ECg4Y44lpQMAeMcK",
      "include_colab_link": true
    },
    "kernelspec": {
      "name": "python3",
      "display_name": "Python 3"
    },
    "language_info": {
      "name": "python"
    }
  },
  "cells": [
    {
      "cell_type": "markdown",
      "metadata": {
        "id": "view-in-github",
        "colab_type": "text"
      },
      "source": [
        "<a href=\"https://colab.research.google.com/github/EshanSugeesh/EshanSugeesh/blob/main/Summer_Analytics_IIT_Guwahati_Assignment_1.ipynb\" target=\"_parent\"><img src=\"https://colab.research.google.com/assets/colab-badge.svg\" alt=\"Open In Colab\"/></a>"
      ]
    },
    {
      "cell_type": "code",
      "execution_count": 3,
      "metadata": {
        "id": "IVv0-2xXu2IQ",
        "colab": {
          "base_uri": "https://localhost:8080/"
        },
        "outputId": "ae373a96-d935-40bc-9645-24a72942a962"
      },
      "outputs": [
        {
          "output_type": "stream",
          "name": "stdout",
          "text": [
            "       #                   Name   Type 1  Type 2  Total  HP  Attack  Defense  \\\n",
            "0      1              Bulbasaur    Grass  Poison    318  45      49       49   \n",
            "1      2                Ivysaur    Grass  Poison    405  60      62       63   \n",
            "2      3               Venusaur    Grass  Poison    525  80      82       83   \n",
            "3      3  VenusaurMega Venusaur    Grass  Poison    625  80     100      123   \n",
            "4      4             Charmander     Fire     NaN    309  39      52       43   \n",
            "..   ...                    ...      ...     ...    ...  ..     ...      ...   \n",
            "795  719                Diancie     Rock   Fairy    600  50     100      150   \n",
            "796  719    DiancieMega Diancie     Rock   Fairy    700  50     160      110   \n",
            "797  720    HoopaHoopa Confined  Psychic   Ghost    600  80     110       60   \n",
            "798  720     HoopaHoopa Unbound  Psychic    Dark    680  80     160       60   \n",
            "799  721              Volcanion     Fire   Water    600  80     110      120   \n",
            "\n",
            "     Sp. Atk  Sp. Def  Speed  Generation  Legendary  \n",
            "0         65       65     45           1      False  \n",
            "1         80       80     60           1      False  \n",
            "2        100      100     80           1      False  \n",
            "3        122      120     80           1      False  \n",
            "4         60       50     65           1      False  \n",
            "..       ...      ...    ...         ...        ...  \n",
            "795      100      150     50           6       True  \n",
            "796      160      110    110           6       True  \n",
            "797      150      130     70           6       True  \n",
            "798      170      130     80           6       True  \n",
            "799      130       90     70           6       True  \n",
            "\n",
            "[800 rows x 13 columns]\n"
          ]
        }
      ],
      "source": [
        "import pandas as pd\n",
        "\n",
        "# Load the dataset\n",
        "df = pd.read_csv('/SA2024_W1_Pokemon.csv')\n",
        "print(df)\n"
      ]
    },
    {
      "cell_type": "code",
      "source": [
        "count = df['Name'].str.count('Mega').sum()"
      ],
      "metadata": {
        "id": "9QcNQjsgvrn5"
      },
      "execution_count": 9,
      "outputs": []
    },
    {
      "cell_type": "code",
      "source": [
        "print(count)"
      ],
      "metadata": {
        "colab": {
          "base_uri": "https://localhost:8080/"
        },
        "id": "e3XLh_v9xhvu",
        "outputId": "5f69e483-2683-4611-9ad3-07fcd7c15a94"
      },
      "execution_count": 10,
      "outputs": [
        {
          "output_type": "stream",
          "name": "stdout",
          "text": [
            "49\n"
          ]
        }
      ]
    },
    {
      "cell_type": "code",
      "source": [
        "std_deviation = df['Sp. Def'].std()\n",
        "\n",
        "print(\"Standard deviation of 'Sp.Def':\", std_deviation)"
      ],
      "metadata": {
        "colab": {
          "base_uri": "https://localhost:8080/"
        },
        "id": "MygAesqvxkvs",
        "outputId": "555b9fc6-1ac9-4a8a-93c9-3f9d9cc91103"
      },
      "execution_count": 12,
      "outputs": [
        {
          "output_type": "stream",
          "name": "stdout",
          "text": [
            "Standard deviation of 'Sp.Def': 27.82891579711746\n"
          ]
        }
      ]
    },
    {
      "cell_type": "code",
      "source": [
        "total_entries = len(df['Legendary'])\n",
        "print(total_entries)"
      ],
      "metadata": {
        "colab": {
          "base_uri": "https://localhost:8080/"
        },
        "id": "oqlajUakykam",
        "outputId": "be7bc31f-a11b-443a-9e49-4a8974a72c03"
      },
      "execution_count": 14,
      "outputs": [
        {
          "output_type": "stream",
          "name": "stdout",
          "text": [
            "800\n"
          ]
        }
      ]
    },
    {
      "cell_type": "code",
      "source": [
        "true_count = df['Legendary'].sum()"
      ],
      "metadata": {
        "id": "qZesk_kpzif1"
      },
      "execution_count": 21,
      "outputs": []
    },
    {
      "cell_type": "code",
      "source": [
        "print(true_count)"
      ],
      "metadata": {
        "colab": {
          "base_uri": "https://localhost:8080/"
        },
        "id": "C_e0mz5QzwGt",
        "outputId": "3e0b28ca-d29a-4916-b00a-76097712b2e1"
      },
      "execution_count": 22,
      "outputs": [
        {
          "output_type": "stream",
          "name": "stdout",
          "text": [
            "65\n"
          ]
        }
      ]
    },
    {
      "cell_type": "code",
      "source": [
        "max_defense_index = df['Defense'].idxmax()\n",
        "print(max_defense_index)"
      ],
      "metadata": {
        "colab": {
          "base_uri": "https://localhost:8080/"
        },
        "id": "qfqbo5Ph1QoX",
        "outputId": "3fe1aaf4-2c56-4c7b-e0f8-072a82193df5"
      },
      "execution_count": 25,
      "outputs": [
        {
          "output_type": "stream",
          "name": "stdout",
          "text": [
            "224\n"
          ]
        }
      ]
    },
    {
      "cell_type": "code",
      "source": [
        "pokemon_with_max_defense = df[df['Defense'] == df['Defense'].max()]\n",
        "print(pokemon_with_max_defense)"
      ],
      "metadata": {
        "colab": {
          "base_uri": "https://localhost:8080/"
        },
        "id": "4NG2r1od2BoK",
        "outputId": "3d5bdec1-8e1c-4793-9764-8c0ea0650e2d"
      },
      "execution_count": 27,
      "outputs": [
        {
          "output_type": "stream",
          "name": "stdout",
          "text": [
            "       #                 Name Type 1  Type 2  Total  HP  Attack  Defense  \\\n",
            "224  208  SteelixMega Steelix  Steel  Ground    610  75     125      230   \n",
            "230  213              Shuckle    Bug    Rock    505  20      10      230   \n",
            "333  306    AggronMega Aggron  Steel     NaN    630  70     140      230   \n",
            "\n",
            "     Sp. Atk  Sp. Def  Speed  Generation  Legendary  \n",
            "224       55       95     30           2      False  \n",
            "230       10      230      5           2      False  \n",
            "333       60       80     50           3      False  \n"
          ]
        }
      ]
    },
    {
      "cell_type": "code",
      "source": [
        "pokemon_name_with_max_defense = df.loc[max_defense_index, 'Name']\n",
        "print(\"\\nPokemon(s) with maximum Defense name:\")\n",
        "print(pokemon_name_with_max_defense)"
      ],
      "metadata": {
        "colab": {
          "base_uri": "https://localhost:8080/"
        },
        "id": "ZXvrHl8c2TQW",
        "outputId": "3d743549-0b25-4de9-bf4c-6f9b1f8f7a7b"
      },
      "execution_count": 28,
      "outputs": [
        {
          "output_type": "stream",
          "name": "stdout",
          "text": [
            "\n",
            "Pokemon(s) with maximum Defense name:\n",
            "SteelixMega Steelix\n"
          ]
        }
      ]
    },
    {
      "cell_type": "code",
      "source": [
        "poison_pokemon = df[df['Type 2'] == 'Poison']"
      ],
      "metadata": {
        "id": "W_bUgFLm2ptE"
      },
      "execution_count": 29,
      "outputs": []
    },
    {
      "cell_type": "code",
      "source": [
        "strongest_attack_poison_pokemon = poison_pokemon.loc[poison_pokemon['Attack'].idxmax()]"
      ],
      "metadata": {
        "id": "6Dx258xJ3eqo"
      },
      "execution_count": 30,
      "outputs": []
    },
    {
      "cell_type": "code",
      "source": [
        "print(\"Poison-type Pokemon with the strongest Attack:\")\n",
        "print(strongest_attack_poison_pokemon['Name'], \"with Attack\", strongest_attack_poison_pokemon['Attack'])"
      ],
      "metadata": {
        "colab": {
          "base_uri": "https://localhost:8080/"
        },
        "id": "xyqtV_hB3kh3",
        "outputId": "a6ed35ab-1257-486c-d5d3-f2f51174aa58"
      },
      "execution_count": 31,
      "outputs": [
        {
          "output_type": "stream",
          "name": "stdout",
          "text": [
            "Poison-type Pokemon with the strongest Attack:\n",
            "BeedrillMega Beedrill with Attack 150\n"
          ]
        }
      ]
    },
    {
      "cell_type": "code",
      "source": [
        "gen_4_pokemon = df[df['Generation'] == 4]\n",
        "\n",
        "# Filter for non-legendary Pokémon\n",
        "non_legendary_pokemon = gen_4_pokemon[gen_4_pokemon['Legendary'] == False]\n",
        "\n",
        "# Filter for Ghost-type Pokémon\n",
        "ghost_type_pokemon = non_legendary_pokemon[non_legendary_pokemon['Type 2'] == 'Ghost']\n",
        "\n",
        "# Sort the DataFrame by speed in descending order\n",
        "sorted_ghost_type_pokemon = ghost_type_pokemon.sort_values(by='Speed', ascending=False)\n",
        "\n",
        "# Retrieve the second entry from the sorted DataFrame\n",
        "second_fastest_ghost_type_pokemon = sorted_ghost_type_pokemon.iloc[1]\n",
        "\n",
        "print(\"Second-fastest non-legendary Ghost-type Pokémon from the 4th generation:\")\n",
        "print(second_fastest_ghost_type_pokemon['Name'])"
      ],
      "metadata": {
        "colab": {
          "base_uri": "https://localhost:8080/"
        },
        "id": "-x9QFFNM3uof",
        "outputId": "47fd2ebc-e8d3-4681-ca20-c4bc1302e91d"
      },
      "execution_count": 32,
      "outputs": [
        {
          "output_type": "stream",
          "name": "stdout",
          "text": [
            "Second-fastest non-legendary Ghost-type Pokémon from the 4th generation:\n",
            "Rotom\n"
          ]
        }
      ]
    },
    {
      "cell_type": "code",
      "source": [
        "# Filter for non-legendary Pokémon\n",
        "non_legendary_pokemon = df[df['Legendary'] == False]\n",
        "\n",
        "# Retrieve Charizard's Attack and Defense stats\n",
        "charizard_attack = df[df['Name'] == 'Charizard']['Attack'].iloc[0]\n",
        "charizard_defense = df[df['Name'] == 'Charizard']['Defense'].iloc[0]\n",
        "\n",
        "# Filter for Pokémon with stronger Defense but weaker Attack than Charizard\n",
        "stronger_defense_weaker_attack_pokemon = non_legendary_pokemon[(non_legendary_pokemon['Defense'] > charizard_defense) & (non_legendary_pokemon['Attack'] < charizard_attack)]\n",
        "\n",
        "# Count the number of such Pokémon\n",
        "count = len(stronger_defense_weaker_attack_pokemon)\n",
        "\n",
        "print(\"Number of non-legendary Pokémon with stronger Defense but weaker Attack than Charizard:\", count)"
      ],
      "metadata": {
        "colab": {
          "base_uri": "https://localhost:8080/"
        },
        "id": "3e4Hng8Q4hxS",
        "outputId": "3cc5806b-5f61-476c-b826-2ce1a3f78cff"
      },
      "execution_count": 33,
      "outputs": [
        {
          "output_type": "stream",
          "name": "stdout",
          "text": [
            "Number of non-legendary Pokémon with stronger Defense but weaker Attack than Charizard: 116\n"
          ]
        }
      ]
    },
    {
      "cell_type": "code",
      "source": [
        "# Group the DataFrame by 'Generation' and count the number of legendary Pokémon in each group\n",
        "legendary_count_by_generation = df[df['Legendary'] == True].groupby('Generation').size()\n",
        "\n",
        "# Find the Generation with the maximum number of legendary Pokémon\n",
        "generation_with_most_legendaries = legendary_count_by_generation.idxmax()\n",
        "\n",
        "# Find the number of legendary Pokémon in the Generation with the most\n",
        "most_legendaries_count = legendary_count_by_generation.max()\n",
        "\n",
        "print(\"Generation with the most number of legendary Pokémon:\", generation_with_most_legendaries)\n",
        "print(\"Number of legendary Pokémon in that generation:\", most_legendaries_count)"
      ],
      "metadata": {
        "colab": {
          "base_uri": "https://localhost:8080/"
        },
        "id": "GhIrQR4y4_v8",
        "outputId": "c35791ea-475e-4d80-d4ee-7f2333171f2b"
      },
      "execution_count": 34,
      "outputs": [
        {
          "output_type": "stream",
          "name": "stdout",
          "text": [
            "Generation with the most number of legendary Pokémon: 3\n",
            "Number of legendary Pokémon in that generation: 18\n"
          ]
        }
      ]
    },
    {
      "cell_type": "code",
      "source": [
        "# Filter the DataFrame for Pokémon with 'Psychic' as Type 1 and 'Flying' as Type 2\n",
        "psychic_flying_pokemon = df[(df['Type 1'] == 'Psychic') & (df['Type 2'] == 'Flying')]\n",
        "\n",
        "# Count the number of rows (i.e., the number of Pokémon) in the filtered DataFrame\n",
        "total_psychic_flying_pokemon = len(psychic_flying_pokemon)\n",
        "\n",
        "print(\"Total number of Pokémon with Type 1 as 'Psychic' and Type 2 as 'Flying':\", total_psychic_flying_pokemon)"
      ],
      "metadata": {
        "colab": {
          "base_uri": "https://localhost:8080/"
        },
        "id": "JxMd2Q4c5Oaa",
        "outputId": "08281fad-2fdf-42b6-cfe4-44eb42c4a03e"
      },
      "execution_count": 35,
      "outputs": [
        {
          "output_type": "stream",
          "name": "stdout",
          "text": [
            "Total number of Pokémon with Type 1 as 'Psychic' and Type 2 as 'Flying': 6\n"
          ]
        }
      ]
    },
    {
      "cell_type": "code",
      "source": [
        "# Count the occurrences of each type in the 'Type 2' column\n",
        "type_counts = df['Type 2'].value_counts()\n",
        "\n",
        "# Check if 'Fairy' is less common than 'Steel' and 'Psychic' in the 'Type 2' column\n",
        "is_fairy_less_common = type_counts.get('Fairy', 0) < type_counts.get('Steel', 0) and type_counts.get('Fairy', 0) < type_counts.get('Psychic', 0)\n",
        "\n",
        "if is_fairy_less_common:\n",
        "    print(\"'Fairy' is less common than 'Steel' and 'Psychic' as Type 2.\")\n",
        "else:\n",
        "    print(\"'Fairy' is not less common than 'Steel' and 'Psychic' as Type 2.\")"
      ],
      "metadata": {
        "colab": {
          "base_uri": "https://localhost:8080/"
        },
        "id": "2cFNl-XH5lBu",
        "outputId": "2710bc87-b38d-4ed6-9ee6-2d36b86a8c5a"
      },
      "execution_count": 36,
      "outputs": [
        {
          "output_type": "stream",
          "name": "stdout",
          "text": [
            "'Fairy' is not less common than 'Steel' and 'Psychic' as Type 2.\n"
          ]
        }
      ]
    },
    {
      "cell_type": "code",
      "source": [
        "# Count the number of Pokémon in each generation\n",
        "gen1_count = len(df[df['Generation'] == 1])\n",
        "gen4_count = len(df[df['Generation'] == 4])\n",
        "gen6_count = len(df[df['Generation'] == 6])\n",
        "\n",
        "# Check if Generation 4 has more Pokémon than Generation 6 but less than Generation 1\n",
        "if gen1_count > gen4_count > gen6_count:\n",
        "    print(\"Generation 4 has more Pokémon than Generation 6 but less than Generation 1.\")\n",
        "else:\n",
        "    print(\"Generation 4 does not meet the specified conditions.\")"
      ],
      "metadata": {
        "colab": {
          "base_uri": "https://localhost:8080/"
        },
        "id": "uoGHfX5O5xv6",
        "outputId": "51aefb4a-c170-45f6-ddc3-f1bc73dcf06d"
      },
      "execution_count": 37,
      "outputs": [
        {
          "output_type": "stream",
          "name": "stdout",
          "text": [
            "Generation 4 has more Pokémon than Generation 6 but less than Generation 1.\n"
          ]
        }
      ]
    },
    {
      "cell_type": "code",
      "source": [
        "# Count the occurrences of each type in the 'Type 1' column\n",
        "type1_counts = df['Type 1'].value_counts()\n",
        "\n",
        "# Check if 'Flying' is the least common followed by 'Ice'\n",
        "is_flying_least_common_followed_by_ice = (type1_counts.idxmin() == 'Flying') and (type1_counts.nsmallest(2).iloc[1] == type1_counts['Ice'])\n",
        "\n",
        "if is_flying_least_common_followed_by_ice:\n",
        "    print(\"'Flying' is the least common Type-1 followed by 'Ice'.\")\n",
        "else:\n",
        "    print(\"'Flying' is not the least common Type-1 followed by 'Ice'.\")"
      ],
      "metadata": {
        "colab": {
          "base_uri": "https://localhost:8080/"
        },
        "id": "ultYB-Jo59Eo",
        "outputId": "c0b38ff8-e9a7-40b0-e344-4f6d2e39573c"
      },
      "execution_count": 38,
      "outputs": [
        {
          "output_type": "stream",
          "name": "stdout",
          "text": [
            "'Flying' is not the least common Type-1 followed by 'Ice'.\n"
          ]
        }
      ]
    },
    {
      "cell_type": "code",
      "source": [
        "# Filter for Pokémon from the 4th generation\n",
        "gen_4_pokemon = df[df['Generation'] == 4]\n",
        "\n",
        "# Filter for non-legendary Pokémon\n",
        "non_legendary_pokemon = gen_4_pokemon[gen_4_pokemon['Legendary'] == False]\n",
        "\n",
        "# Filter for Ghost-type Pokémon\n",
        "ghost_type_pokemon = non_legendary_pokemon[non_legendary_pokemon['Type 1'] == 'Ghost']\n",
        "\n",
        "# Sort the DataFrame by speed in descending order\n",
        "sorted_ghost_type_pokemon = ghost_type_pokemon.sort_values(by='Speed', ascending=False)\n",
        "\n",
        "# Retrieve the second entry from the sorted DataFrame\n",
        "second_fastest_ghost_type_pokemon = sorted_ghost_type_pokemon.iloc[1]\n",
        "\n",
        "print(\"Second-fastest non-legendary Ghost-type Pokémon from the 4th generation:\")\n",
        "print(second_fastest_ghost_type_pokemon['Name'])"
      ],
      "metadata": {
        "colab": {
          "base_uri": "https://localhost:8080/"
        },
        "id": "sg5s_99r6HuG",
        "outputId": "3fdf3339-3e9a-41d2-b525-eaae7d3fd4de"
      },
      "execution_count": 39,
      "outputs": [
        {
          "output_type": "stream",
          "name": "stdout",
          "text": [
            "Second-fastest non-legendary Ghost-type Pokémon from the 4th generation:\n",
            "Drifblim\n"
          ]
        }
      ]
    },
    {
      "cell_type": "code",
      "source": [],
      "metadata": {
        "id": "RlDbnKoX6ps4"
      },
      "execution_count": null,
      "outputs": []
    }
  ]
}